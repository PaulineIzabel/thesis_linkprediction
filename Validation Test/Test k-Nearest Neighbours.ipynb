{
 "cells": [
  {
   "cell_type": "markdown",
   "metadata": {},
   "source": [
    "# k-Nearest Neighbours test"
   ]
  },
  {
   "cell_type": "code",
   "execution_count": 1,
   "metadata": {},
   "outputs": [],
   "source": [
    "import networkx as nx \n",
    "import random\n",
    "import matplotlib.pyplot as plt\n",
    "from sklearn import neighbors,model_selection\n",
    "import numpy as np\n",
    "import csv"
   ]
  },
  {
   "cell_type": "code",
   "execution_count": 2,
   "metadata": {},
   "outputs": [],
   "source": [
    "# Attributes : Age; Blood_Pressure; BMI; Plasma_level; Autoimmune_Disease; Adverse_events; Drug_in_serum; Liver_function; Activity_test; Secondary_test\n",
    "Attributes = ['Age', 'Blood_Pressure', 'BMI', 'Plasma_level', 'Autoimmune_Disease', 'Adverse_events', 'Drug_in_serum', 'Liver_function', 'Activity_test', 'Secondary_test']\n",
    "\n",
    "# We create a list of list to contain the data\n",
    "# Each data[i] represents the data for the attribute i\n",
    "#X_train = np.array([])\n",
    "data = []\n",
    "with open ('autoimmune.txt', 'r') as f:\n",
    "    for row in csv.reader(f,delimiter='\\t'):\n",
    "        data.append(row)\n",
    "\n",
    "# The fifth row is the one of Autoimmune_Disease = data[4]\n",
    "# And Autoimmune_Disease is the attribute we want to predict so :\n",
    "X_train = np.zeros((len(data[0]),len(data)-1))\n",
    "for patient in range (len(data[0])):\n",
    "    patient_data = []\n",
    "    for attribute in range (len(data)):\n",
    "        if attribute != 4:\n",
    "            patient_data.append(float(data[attribute][patient]))\n",
    "    X_train[patient] = patient_data\n",
    "Y_train = []   \n",
    "for x in data[4]:\n",
    "    if x=='positive':\n",
    "        Y_train.append(1)\n",
    "    else: Y_train.append(0)\n",
    "Y_train = np.array(Y_train)"
   ]
  },
  {
   "cell_type": "code",
   "execution_count": 3,
   "metadata": {},
   "outputs": [],
   "source": [
    "def euclidian_dist(a,b):\n",
    "    dist = []\n",
    "    if type(a)=='int':\n",
    "        return sqrt((a-b)**2)\n",
    "    else:\n",
    "        for i in range(len(a)):\n",
    "            dist.append(((a[i]-b[i])**2)**0.5)\n",
    "        return dist"
   ]
  },
  {
   "cell_type": "code",
   "execution_count": 4,
   "metadata": {},
   "outputs": [],
   "source": [
    "def kNN(X_train, Y_train, X_test, k, a=0.5):\n",
    "    \n",
    "    dist = []\n",
    "    for i in range(len(X_train)):\n",
    "        dist.append(euclidian_dist(X_train[i],X_test))\n",
    "    \n",
    "    votes = [x for _,x in sorted(zip(dist,Y_train), reverse = False)]\n",
    "    \n",
    "    classification = 0\n",
    "    for j in range(k):\n",
    "        classification += votes[j]\n",
    "        \n",
    "    if classification/k > a:\n",
    "        return np.array(1)\n",
    "    else: return np.array(0)"
   ]
  },
  {
   "cell_type": "code",
   "execution_count": 5,
   "metadata": {},
   "outputs": [],
   "source": [
    "# The fifth row is the one of Autoimmune_Disease = data[4]\n",
    "# And Autoimmune_Disease is the attribute we want to predict so :\n",
    "X_train = [[]*(len(data)-1)]*len(data[0])\n",
    "for patient in range (len(data[0])):\n",
    "    patient_data = []\n",
    "    for attribute in range (len(data)):\n",
    "        if attribute != 4:\n",
    "            patient_data.append(float(data[attribute][patient]))\n",
    "    X_train[patient] = patient_data\n",
    "Y_train = []   \n",
    "for x in data[4]:\n",
    "    if x=='positive':\n",
    "        Y_train.append(1)\n",
    "    else: Y_train.append(0)\n",
    "\n",
    "# 10-folder CV\n",
    "Xparts = []\n",
    "Yparts = []\n",
    "\n",
    "start = 0\n",
    "end = int(len(X_train)/10)\n",
    "for part in range(10):  # We create the 10 folders\n",
    "    if end>=len(X_train):\n",
    "        Xparts.append(X_train[start:])\n",
    "        Yparts.append(Y_train[start:])\n",
    "    else:\n",
    "        Xparts.append(X_train[start:end])\n",
    "        Yparts.append(Y_train[start:end])\n",
    "    start = end\n",
    "    end = start + int(len(X_train)/10)"
   ]
  },
  {
   "cell_type": "code",
   "execution_count": 6,
   "metadata": {},
   "outputs": [
    {
     "name": "stdout",
     "output_type": "stream",
     "text": [
      "0.7027027027027026\n"
     ]
    }
   ],
   "source": [
    "scores = []\n",
    "for part in range(10):\n",
    "    accuracy = 0\n",
    "    x_test = Xparts[part]  \n",
    "    y_test = Yparts[part]\n",
    "    x_train,y_train = [],[]\n",
    "    for j in range(10):\n",
    "        if part!=j:\n",
    "            x_train += Xparts[j]\n",
    "            y_train += Yparts[j]\n",
    "    \n",
    "    for i in range(len(x_test)):\n",
    "        if y_test[i]==kNN(x_train, y_train, x_test[i], 8):\n",
    "            accuracy +=1\n",
    "    scores.append(accuracy/len(x_test))\n",
    "scores = np.array(scores)\n",
    "print(scores.mean())"
   ]
  },
  {
   "cell_type": "code",
   "execution_count": 7,
   "metadata": {},
   "outputs": [
    {
     "name": "stdout",
     "output_type": "stream",
     "text": [
      "0.7621621621621621\n"
     ]
    }
   ],
   "source": [
    "k=8\n",
    "KNN = neighbors.KNeighborsClassifier(n_neighbors=k)\n",
    "scores = []\n",
    "for part in range(10):\n",
    "    accuracy = 0\n",
    "    x_test = Xparts[part]  \n",
    "    y_test = Yparts[part]\n",
    "    x_train,y_train = [],[]\n",
    "    for j in range(10):\n",
    "        if part!=j:\n",
    "            x_train += Xparts[j]\n",
    "            y_train += Yparts[j]\n",
    "    \n",
    "    for i in range(len(x_test)):\n",
    "        KNNfit = KNN.fit(np.array(x_train), np.array(y_train))\n",
    "        if y_test[i]==KNNfit.predict(np.array(x_test[i]).reshape(1, -1)):\n",
    "            accuracy +=1\n",
    "    scores.append(accuracy/len(x_test))\n",
    "scores = np.array(scores)\n",
    "print(scores.mean())"
   ]
  },
  {
   "cell_type": "code",
   "execution_count": null,
   "metadata": {},
   "outputs": [],
   "source": []
  }
 ],
 "metadata": {
  "kernelspec": {
   "display_name": "Python 3",
   "language": "python",
   "name": "python3"
  },
  "language_info": {
   "codemirror_mode": {
    "name": "ipython",
    "version": 3
   },
   "file_extension": ".py",
   "mimetype": "text/x-python",
   "name": "python",
   "nbconvert_exporter": "python",
   "pygments_lexer": "ipython3",
   "version": "3.6.7"
  }
 },
 "nbformat": 4,
 "nbformat_minor": 2
}
