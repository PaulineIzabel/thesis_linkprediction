{
 "cells": [
  {
   "cell_type": "markdown",
   "metadata": {},
   "source": [
    "# Common neighbour algorithm"
   ]
  },
  {
   "cell_type": "markdown",
   "metadata": {},
   "source": [
    "### General algorithm"
   ]
  },
  {
   "cell_type": "code",
   "execution_count": 1,
   "metadata": {},
   "outputs": [],
   "source": [
    "import networkx as nx \n",
    "import random\n",
    "import matplotlib.pyplot as plt"
   ]
  },
  {
   "cell_type": "code",
   "execution_count": 2,
   "metadata": {},
   "outputs": [],
   "source": [
    "# Common neighbours\n",
    "def CN(x,y,graph):\n",
    "    s = 0\n",
    "    for i in graph.neighbors(x):\n",
    "        if i in graph.neighbors(y):\n",
    "            s += 1\n",
    "    return s"
   ]
  },
  {
   "cell_type": "code",
   "execution_count": 3,
   "metadata": {},
   "outputs": [],
   "source": [
    "# Prediction returning the ranking list of the edges\n",
    "def prediction_directed(graph, multi = False):\n",
    "    \n",
    "    n = graph.number_of_nodes()\n",
    "    nodes = list(graph.nodes)\n",
    "    random.shuffle(nodes) # so that the prediction is not defined by the order of the nodes\n",
    "    links = []\n",
    "    similarities = []\n",
    "    \n",
    "    for i in range(n):\n",
    "        neighbors = [n for n in graph.neighbors(nodes[i])] # list of the neighbors of node i\n",
    "        for j in range(n):\n",
    "            if i != j :\n",
    "                if (multi==False and nodes[j] not in neighbors) or (multi==True): \n",
    "                    # We don't want to predict edges already existing, if not multigraph\n",
    "                    # if multigraph, we can predict if there is another edge, where we already have one\n",
    "                    links.append([nodes[i],nodes[j]]) \n",
    "                    similarities.append(CN(nodes[i],nodes[j],graph))\n",
    "    \n",
    "    Z = [x for _,x in sorted(zip(similarities,links), reverse = True)]\n",
    "    return Z"
   ]
  },
  {
   "cell_type": "code",
   "execution_count": 4,
   "metadata": {},
   "outputs": [],
   "source": [
    "# Prediction returning the ranking list of the edges\n",
    "def prediction_undirected(graph, multi = False):\n",
    "    \n",
    "    n = graph.number_of_nodes()\n",
    "    nodes = list(graph.nodes)\n",
    "    random.shuffle(nodes) # so that the prediction is not defined by the order of the nodes\n",
    "    links = []\n",
    "    similarities = []\n",
    "    \n",
    "    for i in range(n):\n",
    "        neighbors = [n for n in graph.neighbors(nodes[i])] # list of the neighbors of node i\n",
    "        for j in range(i+1,n):\n",
    "            if (multi==False and nodes[j] not in neighbors) or (multi==True): \n",
    "                # We don't want to predict edges already existing, if not multigraph\n",
    "                # if multigraph, we can predict if there is another edge, where we already have one\n",
    "                # in the notation of the dataset the first number is always the smaller one of the vertices linked by an edge\n",
    "                links.append([min(nodes[i],nodes[j]),max(nodes[i],nodes[j])]) \n",
    "                similarities.append(CN(nodes[i],nodes[j],graph))\n",
    "    \n",
    "    Z = [x for _,x in sorted(zip(similarities,links), reverse = True)]\n",
    "    return Z"
   ]
  },
  {
   "cell_type": "code",
   "execution_count": 5,
   "metadata": {},
   "outputs": [],
   "source": [
    "# function giving all kind of results on performance\n",
    "\n",
    "def results(predictions, actual_edges, graph):\n",
    "    \n",
    "    n = graph.number_of_nodes()\n",
    "    nodes = list(graph.nodes)\n",
    "    n_edges = graph.number_of_edges()\n",
    "    test_size = len(actual_edges)\n",
    "    \n",
    "    precisions = []\n",
    "    recalls = []\n",
    "    fp_rates = []\n",
    "    MAP = 0\n",
    "    tp = 0\n",
    "    fp = 0\n",
    "    tn = len(predictions)-test_size # when 0 positive is predicted\n",
    "    fn = test_size # when 0 positive is predicted\n",
    "    #k = len(predictions) # number of edges predicted\n",
    "    \n",
    "    \n",
    "    for k in range(len(predictions)):\n",
    "        \n",
    "        if k == test_size and tp != 0:\n",
    "            MAP = MAP / tp\n",
    "            \n",
    "        if predictions[k] in actual_edges:\n",
    "            tp += 1\n",
    "            fn -= 1  \n",
    "            if k<test_size:\n",
    "                MAP += (tp /(tp + fp))   \n",
    "        else:\n",
    "            fp += 1\n",
    "            tn -= 1\n",
    "\n",
    "        if (tp != 0 or fp != 0) and k<test_size:\n",
    "            # average precision for k=test_size\n",
    "            # precision = tp /(tp + fp)\n",
    "            precisions.append(tp/(tp + fp))\n",
    "            \n",
    "        if tp != 0 or fn != 0:\n",
    "        # tp + fn = relevant_edges\n",
    "            recalls.append(tp/(tp + fn))                 \n",
    "        if tn != 0 or fp != 0:\n",
    "            # tn + fp = num_vertices*(num_vertices-1) - num_edges - relevant_edges = irrelevant_edges\n",
    "            fp_rates.append(fp/(tn + fp))\n",
    "                \n",
    "    if tp == 0:  # Not even one good prediction\n",
    "        return [0]*test_size,0,[0]*(k+1),[0]*(k+1)\n",
    "    \n",
    "    return(precisions,MAP,recalls,fp_rates)"
   ]
  },
  {
   "cell_type": "code",
   "execution_count": 6,
   "metadata": {},
   "outputs": [],
   "source": [
    "# Average results for the 5-CrossValidation\n",
    "\n",
    "def CV_results(list_graphs, list_targets, network_type='undirected', multi=False):\n",
    "    test_size = len(list_targets[0])\n",
    "    precisions, MAP, recalls, fp_rates= [0]*test_size,0,[],[]\n",
    "    \n",
    "    for part in range(5):\n",
    "        \n",
    "        if network_type == 'directed':\n",
    "            predictions = prediction_directed(list_graphs[part],multi)\n",
    "        else: predictions = prediction_undirected(list_graphs[part],multi)\n",
    "            \n",
    "        if recalls == [] and fp_rates == []:\n",
    "            recalls, fp_rates = [0]*len(predictions),[0]*len(predictions)\n",
    "        precisions_N, MAP_N, recalls_N, fp_rates_N = results(predictions,list_targets[part],list_graphs[part])\n",
    "        precisions,MAP,recalls,fp_rates = [sum(x) for x in zip(precisions,precisions_N)] ,MAP+MAP_N, [sum(x) for x in zip(recalls,recalls_N)], [sum(x) for x in zip(fp_rates,fp_rates_N)]\n",
    "  \n",
    "    return([x/5 for x in precisions], MAP/5, [x/5 for x in recalls], [x/5 for x in fp_rates])"
   ]
  },
  {
   "cell_type": "code",
   "execution_count": 7,
   "metadata": {},
   "outputs": [],
   "source": [
    "def AUROC(fp_rates,recalls):\n",
    "    score = 0\n",
    "    \n",
    "    for x in range(1,len(fp_rates)):\n",
    "        score += (fp_rates[x]-fp_rates[x-1])*recalls[x]\n",
    "        \n",
    "    return score"
   ]
  },
  {
   "cell_type": "markdown",
   "metadata": {},
   "source": [
    "### First dataset : PROTEINS"
   ]
  },
  {
   "cell_type": "markdown",
   "metadata": {},
   "source": [
    "The first dataset we work on is a network of the interactions between human proteins.\n",
    "It makes a perfect example of one of the important applications of link prediction: the\n",
    "biologic domain. It is a directed, unweighted network composed of 1706 vertices\n",
    "(proteins) and 6,207 edges (interactions)."
   ]
  },
  {
   "cell_type": "code",
   "execution_count": 8,
   "metadata": {},
   "outputs": [],
   "source": [
    "# Importation of the dataset: PROTEINS\n",
    "# http://konect.uni-koblenz.de/networks/maayan-Stelzl \n",
    "\n",
    "PROT = []\n",
    "with open('out.maayan-Stelzl') as inputfile:\n",
    "    for line in inputfile:\n",
    "        PROT.append(line.strip().split(','))\n",
    "PROT = PROT[1:] # list of all the edges\n",
    "random.shuffle(PROT) # we randomly shuffle the edges\n",
    "\n",
    "# test size\n",
    "num_edges_PROT = len(PROT)\n",
    "num_vertices_PROT = 1706\n",
    "test_size_PROT = int(num_edges_PROT/5)\n",
    "\n",
    "# Contains the 5 parts forming the whole dataset\n",
    "parts_PROT = []\n",
    "\n",
    "start = 0\n",
    "end = test_size_PROT\n",
    "for part in range(5):  # We create the 5 parts\n",
    "    if end>num_edges_PROT:\n",
    "        parts_PROT.append(PROT[start:])\n",
    "    else:parts_PROT.append(PROT[start:end])\n",
    "    start = end\n",
    "    end = start + test_size_PROT\n"
   ]
  },
  {
   "cell_type": "code",
   "execution_count": 9,
   "metadata": {},
   "outputs": [],
   "source": [
    "PROT_G = nx.DiGraph()\n",
    "for edge in range(len(PROT)):\n",
    "    nodes = PROT[edge][0].split(' ')\n",
    "    PROT_G.add_edge(int(nodes[0]), int(nodes[1])) \n",
    "PROT_nodes = PROT_G.nodes()"
   ]
  },
  {
   "cell_type": "code",
   "execution_count": 10,
   "metadata": {},
   "outputs": [],
   "source": [
    "# graphs contains the 5 different training networks \n",
    "# targets contains the target links corresponding\n",
    "\n",
    "PROT_graphs = []\n",
    "PROT_targets = []\n",
    "\n",
    "for i in range(5):     # i is the index of the folder we won't use\n",
    "    G = nx.DiGraph()\n",
    "    G.add_nodes_from(PROT_nodes)\n",
    "    target_links = [] \n",
    "    for j in range(5): # We use every other folder\n",
    "        data = parts_PROT[j]\n",
    "        if j!=i:        \n",
    "            for edge in range(len(data)):\n",
    "                nodes = data[edge][0].split(' ')\n",
    "                G.add_edge(int(nodes[0]), int(nodes[1])) \n",
    "                \n",
    "                \n",
    "        else:\n",
    "            for edge in range(len(data)):\n",
    "                nodes = data[edge][0].split(' ')\n",
    "                target_links.append([int(nodes[0]),int(nodes[1])])\n",
    "                \n",
    "                \n",
    "\n",
    "    PROT_graphs.append(G)\n",
    "    PROT_targets.append(target_links)\n",
    "  "
   ]
  },
  {
   "cell_type": "code",
   "execution_count": 11,
   "metadata": {},
   "outputs": [],
   "source": [
    "precisions,MAP,recalls,fp_rates = CV_results(PROT_graphs,PROT_targets,'directed')"
   ]
  },
  {
   "cell_type": "code",
   "execution_count": 12,
   "metadata": {
    "scrolled": true
   },
   "outputs": [
    {
     "data": {
      "image/png": "[encoded data removed]",
      "text/plain": [
       "<Figure size 432x288 with 1 Axes>"
      ]
     },
     "metadata": {
      "needs_background": "light"
     },
     "output_type": "display_data"
    }
   ],
   "source": [
    "plt.figure()\n",
    "X = [x for x in range(len(precisions))]\n",
    "plt.plot(X,precisions)\n",
    "plt.title('Plot of the Average Precision')\n",
    "plt.show()"
   ]
  },
  {
   "cell_type": "markdown",
   "metadata": {},
   "source": [
    "The first relevant predicted link is present around the 200th predicted link. So, the prediction is not really great. However, from this link, the precision slowly decrease as we could expect from the ranked list. "
   ]
  },
  {
   "cell_type": "code",
   "execution_count": 13,
   "metadata": {},
   "outputs": [
    {
     "data": {
      "image/png": "[encoded data removed]",
      "text/plain": [
       "<Figure size 432x288 with 1 Axes>"
      ]
     },
     "metadata": {
      "needs_background": "light"
     },
     "output_type": "display_data"
    }
   ],
   "source": [
    "plt.figure()\n",
    "plt.plot(fp_rates, recalls, fp_rates,fp_rates )\n",
    "plt.title('Plot of the ROC curve')\n",
    "plt.show()"
   ]
  },
  {
   "cell_type": "code",
   "execution_count": 14,
   "metadata": {},
   "outputs": [
    {
     "data": {
      "text/plain": [
       "0.32144556792213375"
      ]
     },
     "execution_count": 14,
     "metadata": {},
     "output_type": "execute_result"
    }
   ],
   "source": [
    "AUROC(fp_rates, recalls)"
   ]
  },
  {
   "cell_type": "code",
   "execution_count": 15,
   "metadata": {},
   "outputs": [
    {
     "data": {
      "text/plain": [
       "0.002236620718962385"
      ]
     },
     "execution_count": 15,
     "metadata": {},
     "output_type": "execute_result"
    }
   ],
   "source": [
    "MAP"
   ]
  },
  {
   "cell_type": "markdown",
   "metadata": {},
   "source": [
    "### Second dataset: INFECTIOUS"
   ]
  },
  {
   "cell_type": "markdown",
   "metadata": {},
   "source": [
    "The second dataset we work on is a network representing the face-to-face behaviour of\n",
    "people during the exhibition INFECTIOUS: STAY AWAY in 2009 at the Science Gallery\n",
    "in Dublin. It is undirected, unweighted but has multiple edges. It is composed of 410\n",
    "vertices (visitors) and 17,298 edges (human face-to-face)."
   ]
  },
  {
   "cell_type": "code",
   "execution_count": 16,
   "metadata": {},
   "outputs": [],
   "source": [
    "# Importation of the dataset: INFECTIOUS\n",
    "# http://konect.uni-koblenz.de/networks/sociopatterns-infectious \n",
    "\n",
    "INF = []\n",
    "with open('sociopatterns-infectious\\out.sociopatterns-infectious') as inputfile:\n",
    "    for line in inputfile:\n",
    "        INF.append(line.strip().split(','))\n",
    "INF = INF[2:] # list of all the edges\n",
    "random.shuffle(INF) # we randomly shuffle the edges\n",
    "\n",
    "# test size\n",
    "num_edges_INF = len(INF)\n",
    "num_vertices_INF = 410\n",
    "test_size_INF = int(num_edges_INF/5)\n",
    "\n",
    "# Contains the 5 parts forming the whole dataset\n",
    "parts_INF = []\n",
    "\n",
    "start = 0\n",
    "end = test_size_INF\n",
    "for part in range(5):  # We create the 5 parts\n",
    "    if end>num_edges_INF:\n",
    "        parts_INF.append(INF[start:])\n",
    "    else:parts_INF.append(INF[start:end])\n",
    "    start = end\n",
    "    end = start + test_size_INF\n",
    "\n"
   ]
  },
  {
   "cell_type": "code",
   "execution_count": 17,
   "metadata": {},
   "outputs": [],
   "source": [
    "INF_G = nx.MultiGraph()\n",
    "for edge in range(len(INF)):\n",
    "    nodes = INF[edge][0].split(' ')\n",
    "    INF_G.add_edge(int(nodes[0]), int(nodes[1])) \n",
    "INF_nodes = INF_G.nodes()"
   ]
  },
  {
   "cell_type": "code",
   "execution_count": 18,
   "metadata": {},
   "outputs": [],
   "source": [
    "# graphs contains the 5 different training networks \n",
    "# targets contains the target links corresponding\n",
    "\n",
    "INF_graphs = []\n",
    "INF_targets = []\n",
    "\n",
    "for i in range(5):     # i is the index of the folder we won't use\n",
    "    G = nx.MultiGraph()\n",
    "    G.add_nodes_from(INF_nodes)\n",
    "    target_links = [] \n",
    "    for j in range(5): # We use every other folder\n",
    "        data = parts_INF[j]\n",
    "        if j!=i:        \n",
    "            for edge in range(len(data)):\n",
    "                nodes = data[edge][0].split(' ')\n",
    "                G.add_edge(int(nodes[0]), int(nodes[1])) \n",
    "                \n",
    "                \n",
    "        else:\n",
    "            for edge in range(len(data)):\n",
    "                nodes = data[edge][0].split(' ')\n",
    "                # For undirected network, we write the min node first\n",
    "                # We don't want duplicates because we cannot predict the number of edges to add\n",
    "                if [min(int(nodes[0]),int(nodes[1])),max(int(nodes[0]),int(nodes[1]))] not in target_links:\n",
    "                    target_links.append([min(int(nodes[0]),int(nodes[1])),max(int(nodes[0]),int(nodes[1]))])\n",
    "                \n",
    "                \n",
    "    INF_graphs.append(G)\n",
    "    INF_targets.append(target_links)"
   ]
  },
  {
   "cell_type": "code",
   "execution_count": 19,
   "metadata": {},
   "outputs": [],
   "source": [
    "precisions_INF, MAP_INF, recalls_INF, fp_rates_INF = CV_results(INF_graphs, INF_targets, multi=True)"
   ]
  },
  {
   "cell_type": "code",
   "execution_count": 20,
   "metadata": {},
   "outputs": [
    {
     "data": {
      "image/png": "[encoded data removed]",
      "text/plain": [
       "<Figure size 432x288 with 1 Axes>"
      ]
     },
     "metadata": {
      "needs_background": "light"
     },
     "output_type": "display_data"
    }
   ],
   "source": [
    "plt.figure()\n",
    "X_INF = [x for x in range(len(precisions_INF))]\n",
    "plt.plot(X_INF,precisions_INF)\n",
    "plt.title('Plot of the Average Precision')\n",
    "plt.show()"
   ]
  },
  {
   "cell_type": "markdown",
   "metadata": {},
   "source": [
    "We observe an almost exponentional decrease in the ranking like we could expect from a good predictor."
   ]
  },
  {
   "cell_type": "code",
   "execution_count": 21,
   "metadata": {},
   "outputs": [
    {
     "data": {
      "image/png": "[encoded data removed]",
      "text/plain": [
       "<Figure size 432x288 with 1 Axes>"
      ]
     },
     "metadata": {
      "needs_background": "light"
     },
     "output_type": "display_data"
    }
   ],
   "source": [
    "plt.figure()\n",
    "plt.plot(fp_rates_INF, recalls_INF, fp_rates_INF,fp_rates_INF )\n",
    "plt.title('Plot of the ROC curve')\n",
    "plt.show()"
   ]
  },
  {
   "cell_type": "markdown",
   "metadata": {},
   "source": [
    "The performance on the dataset is awful."
   ]
  },
  {
   "cell_type": "code",
   "execution_count": 22,
   "metadata": {},
   "outputs": [
    {
     "data": {
      "text/plain": [
       "0.9639448546576962"
      ]
     },
     "execution_count": 22,
     "metadata": {},
     "output_type": "execute_result"
    }
   ],
   "source": [
    "AUROC(fp_rates_INF, recalls_INF)"
   ]
  },
  {
   "cell_type": "code",
   "execution_count": 23,
   "metadata": {},
   "outputs": [
    {
     "data": {
      "text/plain": [
       "0.6168914200246407"
      ]
     },
     "execution_count": 23,
     "metadata": {},
     "output_type": "execute_result"
    }
   ],
   "source": [
    "MAP_INF"
   ]
  },
  {
   "cell_type": "markdown",
   "metadata": {},
   "source": [
    "### Third dataset: ADOLESCENT"
   ]
  },
  {
   "cell_type": "markdown",
   "metadata": {},
   "source": [
    "The third dataset is also social related. It has been created from a survey that took place\n",
    "in 1994/1995. Each student was asked to list his 5 best female and his 5 male friends. The\n",
    "network is composed of 2,539 vertices (students), and 12,969 edges (friendships). It is\n",
    "directed and weighted. The bigger the weight of an edge is the more important the\n",
    "relation is."
   ]
  },
  {
   "cell_type": "code",
   "execution_count": 24,
   "metadata": {},
   "outputs": [],
   "source": [
    "# Importation of the dataset: ADOLESCENT\n",
    "# http://konect.uni-koblenz.de/networks/moreno_health\n",
    "\n",
    "ADO = []\n",
    "with open('moreno_health\\out.moreno_health_health') as inputfile:\n",
    "    for line in inputfile:\n",
    "        ADO.append(line.strip().split(','))\n",
    "ADO = ADO[2:] # list of all the edges\n",
    "random.shuffle(ADO) # we randomly shuffle the edges\n",
    "\n",
    "# test size\n",
    "num_edges_ADO = len(ADO)\n",
    "num_vertices_ADO = 2539\n",
    "test_size_ADO = int(num_edges_ADO/5)\n",
    "\n",
    "# Contains the 5 parts forming the whole dataset\n",
    "parts_ADO = []\n",
    "\n",
    "start = 0\n",
    "end = test_size_ADO\n",
    "for part in range(5):  # We create the 5 parts\n",
    "    if end>num_edges_ADO:\n",
    "        parts_ADO.append(ADO[start:])\n",
    "    else:parts_ADO.append(ADO[start:end])\n",
    "    start = end\n",
    "    end = start + test_size_ADO\n"
   ]
  },
  {
   "cell_type": "code",
   "execution_count": 25,
   "metadata": {},
   "outputs": [],
   "source": [
    "ADO_G = nx.DiGraph()\n",
    "for edge in range(len(ADO)):\n",
    "    nodes = ADO[edge][0].split(' ')\n",
    "    ADO_G.add_edge(int(nodes[0]), int(nodes[1]), weight=float(nodes[2]))\n",
    "ADO_nodes = ADO_G.nodes()"
   ]
  },
  {
   "cell_type": "code",
   "execution_count": 26,
   "metadata": {},
   "outputs": [],
   "source": [
    "# graphs contains the 5 different training networks \n",
    "# targets contains the target links corresponding\n",
    "\n",
    "ADO_graphs = []\n",
    "ADO_targets = []\n",
    "\n",
    "for i in range(5):     # i is the index of the folder we won't use\n",
    "    G = nx.DiGraph()\n",
    "    G.add_nodes_from(ADO_nodes)\n",
    "    target_links = [] \n",
    "    for j in range(5): # We use every other folder\n",
    "        data = parts_ADO[j]\n",
    "        if j!=i:        \n",
    "            for edge in range(len(data)):\n",
    "                nodes = data[edge][0].split(' ')\n",
    "                G.add_edge(int(nodes[0]), int(nodes[1]), weight=float(nodes[2])) \n",
    "                \n",
    "                \n",
    "        else:\n",
    "            for edge in range(len(data)):\n",
    "                nodes = data[edge][0].split(' ')\n",
    "                target_links.append([int(nodes[0]),int(nodes[1])])\n",
    "                \n",
    "                \n",
    "\n",
    "    ADO_graphs.append(G)\n",
    "    ADO_targets.append(target_links)\n",
    "  "
   ]
  },
  {
   "cell_type": "code",
   "execution_count": 27,
   "metadata": {},
   "outputs": [],
   "source": [
    "precisions_ADO,MAP_ADO,recalls_ADO,fp_rates_ADO = CV_results(ADO_graphs,ADO_targets,'directed')"
   ]
  },
  {
   "cell_type": "code",
   "execution_count": 28,
   "metadata": {},
   "outputs": [
    {
     "data": {
      "image/png": "[encoded data removed]",
      "text/plain": [
       "<Figure size 432x288 with 1 Axes>"
      ]
     },
     "metadata": {
      "needs_background": "light"
     },
     "output_type": "display_data"
    }
   ],
   "source": [
    "plt.figure()\n",
    "X_ADO = [x for x in range(len(precisions_ADO))]\n",
    "plt.plot(X_ADO,precisions_ADO)\n",
    "plt.title('Plot of the Average Precision')\n",
    "plt.show()"
   ]
  },
  {
   "cell_type": "markdown",
   "metadata": {},
   "source": [
    "The figure shows the exponentional decrease of the function proving the performance of the ranking on the dataset."
   ]
  },
  {
   "cell_type": "code",
   "execution_count": 29,
   "metadata": {},
   "outputs": [
    {
     "data": {
      "image/png": "[encoded data removed]",
      "text/plain": [
       "<Figure size 432x288 with 1 Axes>"
      ]
     },
     "metadata": {
      "needs_background": "light"
     },
     "output_type": "display_data"
    }
   ],
   "source": [
    "plt.figure()\n",
    "plt.plot(fp_rates_ADO, recalls_ADO, fp_rates_ADO,fp_rates_ADO )\n",
    "plt.title('Plot of the ROC curve')\n",
    "plt.show()"
   ]
  },
  {
   "cell_type": "code",
   "execution_count": 30,
   "metadata": {},
   "outputs": [
    {
     "data": {
      "text/plain": [
       "0.6694260140303757"
      ]
     },
     "execution_count": 30,
     "metadata": {},
     "output_type": "execute_result"
    }
   ],
   "source": [
    "AUROC(fp_rates_ADO, recalls_ADO)"
   ]
  },
  {
   "cell_type": "code",
   "execution_count": 31,
   "metadata": {},
   "outputs": [
    {
     "data": {
      "text/plain": [
       "0.12150149849257637"
      ]
     },
     "execution_count": 31,
     "metadata": {},
     "output_type": "execute_result"
    }
   ],
   "source": [
    "MAP_ADO"
   ]
  },
  {
   "cell_type": "markdown",
   "metadata": {},
   "source": [
    "### Fourth dataset: MISERABLES"
   ]
  },
  {
   "cell_type": "markdown",
   "metadata": {},
   "source": [
    "The last dataset is entirely different since it is pure fiction. It contains co-occurrences of\n",
    "characters in Victor Hugo's novel Les Misérables. The network is undirected and positive\n",
    "weighted. It is composed of 77 vertices (the characters), 254 edges (co-occurrences in a\n",
    "chapter)."
   ]
  },
  {
   "cell_type": "code",
   "execution_count": 32,
   "metadata": {},
   "outputs": [],
   "source": [
    "# Importation of the dataset: MISERABLES\n",
    "# http://konect.uni-koblenz.de/networks/moreno_lesmis\n",
    "\n",
    "MIS = []\n",
    "with open('moreno_lesmis\\out.moreno_lesmis_lesmis') as inputfile:\n",
    "    for line in inputfile:\n",
    "        MIS.append(line.strip().split(','))\n",
    "MIS = MIS[2:] # list of all the edges\n",
    "random.shuffle(MIS) # we randomly shuffle the edges\n",
    "\n",
    "# test size\n",
    "num_edges_MIS = len(MIS)\n",
    "num_vertices_MIS = 77\n",
    "test_size_MIS = int(num_edges_MIS/5)\n",
    "\n",
    "# Contains the 5 parts forming the whole dataset\n",
    "parts_MIS = []\n",
    "\n",
    "start = 0\n",
    "end = test_size_MIS\n",
    "for part in range(5):  # We create the 5 parts\n",
    "    if end>num_edges_MIS:\n",
    "        parts_MIS.append(MIS[start:])\n",
    "    else:parts_MIS.append(MIS[start:end])\n",
    "    start = end\n",
    "    end = start + test_size_MIS\n",
    "\n"
   ]
  },
  {
   "cell_type": "code",
   "execution_count": 33,
   "metadata": {},
   "outputs": [],
   "source": [
    "MIS_G = nx.Graph()\n",
    "for edge in range(len(MIS)):\n",
    "    nodes = MIS[edge][0].split(' ')\n",
    "    MIS_G.add_edge(int(nodes[0]), int(nodes[1]), weight=float(nodes[2]))\n",
    "MIS_nodes = MIS_G.nodes()"
   ]
  },
  {
   "cell_type": "code",
   "execution_count": 34,
   "metadata": {},
   "outputs": [],
   "source": [
    "# graphs contains the 5 different training networks \n",
    "# targets contains the target links corresponding\n",
    "\n",
    "MIS_graphs = []\n",
    "MIS_targets = []\n",
    "\n",
    "for i in range(5):     # i is the index of the folder we won't use\n",
    "    G = nx.Graph()\n",
    "    G.add_nodes_from(MIS_nodes)\n",
    "    target_links = [] \n",
    "    for j in range(5): # We use every other folder\n",
    "        data = parts_MIS[j]\n",
    "        if j!=i:        \n",
    "            for edge in range(len(data)):\n",
    "                nodes = data[edge][0].split(' ')\n",
    "                G.add_edge(int(nodes[0]), int(nodes[1]), weight=float(nodes[2])) \n",
    "                \n",
    "                \n",
    "        else:\n",
    "            for edge in range(len(data)):\n",
    "                nodes = data[edge][0].split(' ')\n",
    "                # For undirected network, we write the min node first\n",
    "                target_links.append([min(int(nodes[0]),int(nodes[1])),max(int(nodes[0]),int(nodes[1]))])\n",
    "                \n",
    "                \n",
    "\n",
    "    MIS_graphs.append(G)\n",
    "    MIS_targets.append(target_links)"
   ]
  },
  {
   "cell_type": "code",
   "execution_count": 35,
   "metadata": {},
   "outputs": [],
   "source": [
    "precisions_MIS, MAP_MIS, recalls_MIS, fp_rates_MIS = CV_results(MIS_graphs,MIS_targets)"
   ]
  },
  {
   "cell_type": "code",
   "execution_count": 36,
   "metadata": {},
   "outputs": [
    {
     "data": {
      "image/png": "[encoded data removed]",
      "text/plain": [
       "<Figure size 432x288 with 1 Axes>"
      ]
     },
     "metadata": {
      "needs_background": "light"
     },
     "output_type": "display_data"
    }
   ],
   "source": [
    "plt.figure()\n",
    "X_MIS = [x for x in range(len(precisions_MIS))]\n",
    "plt.plot(X_MIS,precisions_MIS)\n",
    "plt.title('Plot of the Average Precision')\n",
    "plt.show()"
   ]
  },
  {
   "cell_type": "markdown",
   "metadata": {},
   "source": [
    "The function decreases slowly showing that the ranking efficiency."
   ]
  },
  {
   "cell_type": "code",
   "execution_count": 37,
   "metadata": {},
   "outputs": [
    {
     "data": {
      "image/png": "[encoded data removed]",
      "text/plain": [
       "<Figure size 432x288 with 1 Axes>"
      ]
     },
     "metadata": {
      "needs_background": "light"
     },
     "output_type": "display_data"
    }
   ],
   "source": [
    "plt.figure()\n",
    "plt.plot(fp_rates_MIS, recalls_MIS, fp_rates_MIS,fp_rates_MIS )\n",
    "plt.title('Plot of the ROC curve')\n",
    "plt.show()"
   ]
  },
  {
   "cell_type": "code",
   "execution_count": 38,
   "metadata": {},
   "outputs": [
    {
     "data": {
      "text/plain": [
       "0.9075270553064305"
      ]
     },
     "execution_count": 38,
     "metadata": {},
     "output_type": "execute_result"
    }
   ],
   "source": [
    "AUROC(fp_rates_MIS, recalls_MIS)"
   ]
  },
  {
   "cell_type": "code",
   "execution_count": 39,
   "metadata": {},
   "outputs": [
    {
     "data": {
      "text/plain": [
       "0.7457807977514836"
      ]
     },
     "execution_count": 39,
     "metadata": {},
     "output_type": "execute_result"
    }
   ],
   "source": [
    "MAP_MIS"
   ]
  },
  {
   "cell_type": "code",
   "execution_count": null,
   "metadata": {},
   "outputs": [],
   "source": []
  }
 ],
 "metadata": {
  "kernelspec": {
   "display_name": "Python 3",
   "language": "python",
   "name": "python3"
  },
  "language_info": {
   "codemirror_mode": {
    "name": "ipython",
    "version": 3
   },
   "file_extension": ".py",
   "mimetype": "text/x-python",
   "name": "python",
   "nbconvert_exporter": "python",
   "pygments_lexer": "ipython3",
   "version": "3.6.7"
  }
 },
 "nbformat": 4,
 "nbformat_minor": 2
}
